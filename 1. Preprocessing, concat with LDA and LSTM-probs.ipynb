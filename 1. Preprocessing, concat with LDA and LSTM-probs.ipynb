{
 "cells": [
  {
   "cell_type": "markdown",
   "metadata": {},
   "source": [
    "файлы: train_vw3.txt - приведённые к нормальной форме слова, записанные в формате vw <br/>\n",
    "normalized_text.txt - удалены пустые строки <br/>\n",
    "normalized_text2.txt - к каким возможно словам приклеены части речи (для работы с моделями word2vec)<br/>\n",
    "nltk_pos.txt - тоже самое, но через nltk,  а не pymorphy"
   ]
  },
  {
   "cell_type": "code",
   "execution_count": 1,
   "metadata": {
    "collapsed": false
   },
   "outputs": [
    {
     "name": "stderr",
     "output_type": "stream",
     "text": [
      "Using TensorFlow backend.\n",
      "/Users/pavelgulaev/anaconda2/envs/python3/lib/python3.6/site-packages/tensorflow/python/framework/ops.py:871: DeprecationWarning: builtin type EagerTensor has no __module__ attribute\n",
      "  EagerTensor = c_api.TFE_Py_InitEagerTensor(_EagerTensorBase)\n",
      "/Users/pavelgulaev/anaconda2/envs/python3/lib/python3.6/site-packages/tensorflow/python/util/tf_inspect.py:45: DeprecationWarning: inspect.getargspec() is deprecated, use inspect.signature() or inspect.getfullargspec()\n",
      "  if d.decorator_argspec is not None), _inspect.getargspec(target))\n",
      "/Users/pavelgulaev/anaconda2/envs/python3/lib/python3.6/site-packages/tensorflow/python/util/tf_inspect.py:45: DeprecationWarning: inspect.getargspec() is deprecated, use inspect.signature() or inspect.getfullargspec()\n",
      "  if d.decorator_argspec is not None), _inspect.getargspec(target))\n",
      "/Users/pavelgulaev/anaconda2/envs/python3/lib/python3.6/site-packages/tensorflow/python/util/tf_inspect.py:45: DeprecationWarning: inspect.getargspec() is deprecated, use inspect.signature() or inspect.getfullargspec()\n",
      "  if d.decorator_argspec is not None), _inspect.getargspec(target))\n"
     ]
    }
   ],
   "source": [
    "import pandas as pd\n",
    "import numpy as np\n",
    "from sklearn.model_selection import train_test_split\n",
    "from sklearn.metrics import accuracy_score, classification_report\n",
    "from matplotlib import pyplot as plt\n",
    "%matplotlib inline\n",
    "# преобразование строчек словарей в словарь\n",
    "import ast\n",
    "import json\n",
    "# преобразование адресов скринов в md5\n",
    "import hashlib\n",
    "# для текстов\n",
    "import artm\n",
    "import os\n",
    "# для картинок\n",
    "from __future__ import division, print_function\n",
    "from scipy.misc import imresize\n",
    "from keras.models import Model\n",
    "from PIL import Image\n",
    "from pymystem3 import Mystem\n",
    "m = Mystem()"
   ]
  },
  {
   "cell_type": "markdown",
   "metadata": {},
   "source": [
    "Перезапись файла"
   ]
  },
  {
   "cell_type": "code",
   "execution_count": null,
   "metadata": {
    "collapsed": false
   },
   "outputs": [],
   "source": [
    "data = pd.read_table(\"df_export_all.tsv\")\n",
    "intab = \"\\n\\t\"\n",
    "outtab = \"  \"\n",
    "trantab = str.maketrans(intab, outtab)\n",
    "for i in data.index.values[0:5000]:\n",
    "    text = data.loc[i, 'narrativeStateJson']\n",
    "    json_text = json.loads(text)\n",
    "    s = \"\"\n",
    "    for el in json_text['slideElementEntities']:\n",
    "        if ('text' in json_text['slideElementEntities'][el] and json_text['slideElementEntities'][el]['type']!=\"text-title\" and json_text['slideElementEntities'][el]['type']!=\"url\"):\n",
    "            s+=json_text['slideElementEntities'][el]['text']+' '\n",
    "    data.loc[i, 'text'] = s.translate(trantab)\n",
    "    print(i)\n",
    "for i in data.index.values[5000:]:\n",
    "    text = data.loc[i, 'narrativeStateJson']\n",
    "    json_text = json.loads(text)\n",
    "    s = \"\"\n",
    "    for el in json_text['slideElementEntities']:\n",
    "        if ('text' in json_text['slideElementEntities'][el]):\n",
    "            s+=json_text['slideElementEntities'][el]['text']+' '\n",
    "    data.loc[i, 'text'] = s.translate(trantab)\n",
    "    print(i)\n",
    "data.to_csv('df_export_all_new.tsv', sep='\\t', index=False)"
   ]
  },
  {
   "cell_type": "code",
   "execution_count": 2,
   "metadata": {
    "collapsed": true
   },
   "outputs": [],
   "source": [
    "data = pd.read_table(\"../df_export_all_new.tsv\")"
   ]
  },
  {
   "cell_type": "code",
   "execution_count": 3,
   "metadata": {
    "collapsed": false
   },
   "outputs": [
    {
     "data": {
      "text/plain": [
       "Index(['itemId', 'publisherItemId', 'addTime', 'autobanned',\n",
       "       'byHandModerationStatus', 'tolokaModerationStatus', 'images', 'isSuper',\n",
       "       'modTime', 'narrativeStateJson', 'publishTime', 'slidesCount',\n",
       "       'type_counts', 'text', 'title', 'screenshots',\n",
       "       'publisherFavouritesCount', 'publisherMonetizationAvailable',\n",
       "       'publisherPublications', 'publisherRegTime', 'publisherQualityNumeric'],\n",
       "      dtype='object')"
      ]
     },
     "execution_count": 3,
     "metadata": {},
     "output_type": "execute_result"
    }
   ],
   "source": [
    "data.columns"
   ]
  },
  {
   "cell_type": "markdown",
   "metadata": {},
   "source": [
    "Всего записей"
   ]
  },
  {
   "cell_type": "code",
   "execution_count": 4,
   "metadata": {
    "collapsed": false
   },
   "outputs": [
    {
     "data": {
      "text/plain": [
       "13365"
      ]
     },
     "execution_count": 4,
     "metadata": {},
     "output_type": "execute_result"
    }
   ],
   "source": [
    "len(data)"
   ]
  },
  {
   "cell_type": "markdown",
   "metadata": {},
   "source": [
    "Количество авторов публикаций"
   ]
  },
  {
   "cell_type": "code",
   "execution_count": 5,
   "metadata": {
    "collapsed": false
   },
   "outputs": [
    {
     "data": {
      "text/plain": [
       "3697"
      ]
     },
     "execution_count": 5,
     "metadata": {},
     "output_type": "execute_result"
    }
   ],
   "source": [
    "len(data.publisherItemId.unique())"
   ]
  },
  {
   "cell_type": "markdown",
   "metadata": {},
   "source": [
    "Все забаненные нарративы становятся BAD_FOR_RECOMMENDER"
   ]
  },
  {
   "cell_type": "code",
   "execution_count": 6,
   "metadata": {
    "collapsed": true
   },
   "outputs": [],
   "source": [
    "data.loc[(data['autobanned']==True) | (data['tolokaModerationStatus']=='BAD_FOR_RECOMMENDER'), 'byHandModerationStatus'] = 'BAD_FOR_RECOMMENDER'"
   ]
  },
  {
   "cell_type": "markdown",
   "metadata": {},
   "source": [
    "Вывод из категории Super нарративов, которые BAD_FOR_RECOMMENDER"
   ]
  },
  {
   "cell_type": "code",
   "execution_count": 7,
   "metadata": {
    "collapsed": false
   },
   "outputs": [],
   "source": [
    "data.loc[(data['isSuper']==True) & (data['byHandModerationStatus']=='BAD_FOR_RECOMMENDER'), 'isSuper'] = False"
   ]
  },
  {
   "cell_type": "markdown",
   "metadata": {},
   "source": [
    "Проверяю, что остались только isSuper, BAD, UNKNOWN"
   ]
  },
  {
   "cell_type": "code",
   "execution_count": 8,
   "metadata": {
    "collapsed": true
   },
   "outputs": [],
   "source": [
    "data.loc[(data['isSuper']==False) & (data['byHandModerationStatus']=='UNKNOWN'), 'isSuper'] = False"
   ]
  },
  {
   "cell_type": "code",
   "execution_count": 9,
   "metadata": {
    "collapsed": true
   },
   "outputs": [],
   "source": [
    "data['res'] = pd.Series(np.zeros(len(data)))"
   ]
  },
  {
   "cell_type": "code",
   "execution_count": 10,
   "metadata": {
    "collapsed": true
   },
   "outputs": [],
   "source": [
    "data.loc[data.byHandModerationStatus=='OK', 'res'] = 3\n",
    "data.loc[data.isSuper==True, 'res'] = 2\n",
    "data.loc[data.byHandModerationStatus=='BAD_FOR_RECOMMENDER', 'res'] = 1"
   ]
  },
  {
   "cell_type": "markdown",
   "metadata": {},
   "source": [
    "В будущем работа будет осуществляться только с counted_ind, потому что not_counted_ind неразмечены и условно считаются за \"ОК\". В начале считается на всех данных для гибкости."
   ]
  },
  {
   "cell_type": "code",
   "execution_count": 11,
   "metadata": {
    "collapsed": true
   },
   "outputs": [],
   "source": [
    "counted_ind = data[data.res!=0].index\n",
    "not_counted_ind = data[data.res==0].index"
   ]
  },
  {
   "cell_type": "code",
   "execution_count": 12,
   "metadata": {
    "collapsed": true
   },
   "outputs": [],
   "source": [
    "data.loc[(data.tolokaModerationStatus=='OK') & (data.autobanned==False) & data.res==0, 'res'] = 3"
   ]
  },
  {
   "cell_type": "markdown",
   "metadata": {},
   "source": [
    "С временем и количеством слайдов проблем нет"
   ]
  },
  {
   "cell_type": "code",
   "execution_count": 13,
   "metadata": {
    "collapsed": false
   },
   "outputs": [
    {
     "data": {
      "text/plain": [
       "0"
      ]
     },
     "execution_count": 13,
     "metadata": {},
     "output_type": "execute_result"
    }
   ],
   "source": [
    "len(data[(data.addTime>data.publishTime) | (data.addTime>data.modTime)])"
   ]
  },
  {
   "cell_type": "code",
   "execution_count": 14,
   "metadata": {
    "collapsed": false
   },
   "outputs": [
    {
     "data": {
      "text/plain": [
       "array([10, 12, 11,  6,  7,  9,  8,  5,  4,  3,  2,  1])"
      ]
     },
     "execution_count": 14,
     "metadata": {},
     "output_type": "execute_result"
    }
   ],
   "source": [
    "data.slidesCount.unique()"
   ]
  },
  {
   "cell_type": "markdown",
   "metadata": {},
   "source": [
    "Перевод времени регистрации автора из datetime в timestamp"
   ]
  },
  {
   "cell_type": "code",
   "execution_count": 15,
   "metadata": {
    "collapsed": false
   },
   "outputs": [],
   "source": [
    "data.loc[:, 'publisherRegTime'] = (pd.DatetimeIndex(data.publisherRegTime).astype(np.int64) / 1000000).astype(np.int64)"
   ]
  },
  {
   "cell_type": "markdown",
   "metadata": {},
   "source": [
    "Смотрю на длину текста сначала для плохих, а потом для неплохих нарративов\n",
    "Смена разметки текста значительно изменило гистограммы (сверху - до, снизу - после)"
   ]
  },
  {
   "cell_type": "markdown",
   "metadata": {},
   "source": [
    "Выделение фичей из type_counts"
   ]
  },
  {
   "cell_type": "code",
   "execution_count": 16,
   "metadata": {
    "collapsed": false
   },
   "outputs": [
    {
     "data": {
      "text/plain": [
       "['url', 'text', 'image', 'video', 'text-title']"
      ]
     },
     "execution_count": 16,
     "metadata": {},
     "output_type": "execute_result"
    }
   ],
   "source": [
    "list(ast.literal_eval(data.type_counts[0]).keys())"
   ]
  },
  {
   "cell_type": "code",
   "execution_count": 17,
   "metadata": {
    "collapsed": false,
    "scrolled": true
   },
   "outputs": [],
   "source": [
    "big_dict = {}\n",
    "d_keys = list(ast.literal_eval(data.type_counts[0]).keys())\n",
    "for key in d_keys:\n",
    "    big_dict[key] = []\n",
    "for str_dict in data.type_counts:\n",
    "    curr_dict = ast.literal_eval(str_dict)\n",
    "    for key in d_keys:\n",
    "        big_dict[key].append(curr_dict[key])\n",
    "big_dict['text_num'] = big_dict['text']\n",
    "big_dict['text_title'] = big_dict['text-title']\n",
    "big_dict.pop('text', None)\n",
    "_ = big_dict.pop('text-title', None)"
   ]
  },
  {
   "cell_type": "code",
   "execution_count": 18,
   "metadata": {
    "collapsed": false
   },
   "outputs": [],
   "source": [
    "text_type_features = pd.DataFrame(big_dict)"
   ]
  },
  {
   "cell_type": "code",
   "execution_count": 19,
   "metadata": {
    "collapsed": true
   },
   "outputs": [],
   "source": [
    "data = pd.concat([data, text_type_features], axis=1)"
   ]
  },
  {
   "cell_type": "code",
   "execution_count": 20,
   "metadata": {
    "collapsed": false
   },
   "outputs": [
    {
     "data": {
      "text/plain": [
       "Index(['itemId', 'publisherItemId', 'addTime', 'autobanned',\n",
       "       'byHandModerationStatus', 'tolokaModerationStatus', 'images', 'isSuper',\n",
       "       'modTime', 'narrativeStateJson', 'publishTime', 'slidesCount',\n",
       "       'type_counts', 'text', 'title', 'screenshots',\n",
       "       'publisherFavouritesCount', 'publisherMonetizationAvailable',\n",
       "       'publisherPublications', 'publisherRegTime', 'publisherQualityNumeric',\n",
       "       'res', 'image', 'text_num', 'text_title', 'url', 'video'],\n",
       "      dtype='object')"
      ]
     },
     "execution_count": 20,
     "metadata": {},
     "output_type": "execute_result"
    }
   ],
   "source": [
    "data.columns"
   ]
  },
  {
   "cell_type": "code",
   "execution_count": 21,
   "metadata": {
    "collapsed": false
   },
   "outputs": [],
   "source": [
    "data.loc[data.tolokaModerationStatus=='BAD_FOR_RECOMMENDER', 'tolokaModerationStatus'] = 0\n",
    "data.loc[data.tolokaModerationStatus=='OK', 'tolokaModerationStatus'] = 1"
   ]
  },
  {
   "cell_type": "code",
   "execution_count": 22,
   "metadata": {
    "collapsed": true
   },
   "outputs": [],
   "source": [
    "data['addPublishTime'] = data.publishTime-data.addTime"
   ]
  },
  {
   "cell_type": "code",
   "execution_count": 23,
   "metadata": {
    "collapsed": true
   },
   "outputs": [],
   "source": [
    "train_df = data[data.res!=0]\n",
    "test_df = data[data.res==0]"
   ]
  },
  {
   "cell_type": "code",
   "execution_count": 24,
   "metadata": {
    "collapsed": false
   },
   "outputs": [],
   "source": [
    "train_df = train_df.iloc[counted_ind]"
   ]
  },
  {
   "cell_type": "code",
   "execution_count": 25,
   "metadata": {
    "collapsed": false
   },
   "outputs": [
    {
     "data": {
      "text/plain": [
       "Series([], Name: byHandModerationStatus, dtype: object)"
      ]
     },
     "execution_count": 25,
     "metadata": {},
     "output_type": "execute_result"
    }
   ],
   "source": [
    "data.loc[((data.tolokaModerationStatus=='BAD_FOR_RECOMMENDER') | (data.autobanned)) & (data.isSuper), 'byHandModerationStatus']"
   ]
  },
  {
   "cell_type": "code",
   "execution_count": 26,
   "metadata": {
    "collapsed": false
   },
   "outputs": [
    {
     "data": {
      "text/plain": [
       "0"
      ]
     },
     "execution_count": 26,
     "metadata": {},
     "output_type": "execute_result"
    }
   ],
   "source": [
    "len(data.loc[((data.tolokaModerationStatus=='BAD_FOR_RECOMMENDER') | (data.autobanned)) & (data.byHandModerationStatus=='OK'), :])"
   ]
  },
  {
   "cell_type": "markdown",
   "metadata": {},
   "source": [
    "Пояснение к файлу см. выше"
   ]
  },
  {
   "cell_type": "code",
   "execution_count": 27,
   "metadata": {
    "collapsed": false
   },
   "outputs": [],
   "source": [
    "l = []\n",
    "with open(\"../train_vw3.txt\") as f:\n",
    "    strings = f.readlines()\n",
    "    l = [s[7:] for s in strings]"
   ]
  },
  {
   "cell_type": "code",
   "execution_count": 28,
   "metadata": {
    "collapsed": false
   },
   "outputs": [
    {
     "data": {
      "text/plain": [
       "8045"
      ]
     },
     "execution_count": 28,
     "metadata": {},
     "output_type": "execute_result"
    }
   ],
   "source": [
    "len([doc for doc in l if doc!=['\\n']])"
   ]
  },
  {
   "cell_type": "code",
   "execution_count": 29,
   "metadata": {
    "collapsed": false,
    "scrolled": true
   },
   "outputs": [],
   "source": [
    "train_df.loc[train_df.text.notnull(), 'norm_words_text'] = np.array(l)"
   ]
  },
  {
   "cell_type": "code",
   "execution_count": 30,
   "metadata": {
    "collapsed": false
   },
   "outputs": [],
   "source": [
    "empty_strings_len = len(train_df.loc[train_df.norm_words_text=='\\n', 'norm_words_text'])"
   ]
  },
  {
   "cell_type": "code",
   "execution_count": 31,
   "metadata": {
    "collapsed": false
   },
   "outputs": [],
   "source": [
    "train_df.loc[train_df.norm_words_text=='\\n', 'norm_words_text'] = np.array([np.nan]*empty_strings_len)"
   ]
  },
  {
   "cell_type": "code",
   "execution_count": 32,
   "metadata": {
    "collapsed": false
   },
   "outputs": [
    {
     "data": {
      "text/plain": [
       "8014"
      ]
     },
     "execution_count": 32,
     "metadata": {},
     "output_type": "execute_result"
    }
   ],
   "source": [
    "len(train_df.loc[train_df.norm_words_text.notnull(), 'norm_words_text'])"
   ]
  },
  {
   "cell_type": "code",
   "execution_count": 33,
   "metadata": {
    "collapsed": false
   },
   "outputs": [],
   "source": [
    "import urllib.request\n",
    "\n",
    "url = \"https://raw.githubusercontent.com/stopwords-iso/stopwords-ru/master/stopwords-ru.txt\"\n",
    "\n",
    "with urllib.request.urlopen(url) as response:\n",
    "    swfile = response.read().decode(\"utf-8\")\n",
    "\n",
    "    stopwords = set(map(lambda x: x.strip(), swfile.split(\"\\n\")))\n",
    "\n",
    "    for punkt in \")(,;:?-_*[]}{\\\"'><!.*#`/\\\\|&^%$@~\":\n",
    "        stopwords.add(punkt)"
   ]
  },
  {
   "cell_type": "code",
   "execution_count": 34,
   "metadata": {
    "collapsed": false
   },
   "outputs": [
    {
     "data": {
      "text/plain": [
       "[['девушка',\n",
       "  'любовь',\n",
       "  'семья',\n",
       "  'возраст',\n",
       "  'муж',\n",
       "  'рассказывать',\n",
       "  'мама',\n",
       "  'приходить',\n",
       "  'летний',\n",
       "  'появляться'],\n",
       " ['тысяча',\n",
       "  'млн',\n",
       "  'миллион',\n",
       "  'февраль',\n",
       "  'январь',\n",
       "  'доллар',\n",
       "  'версия',\n",
       "  'владимир',\n",
       "  'смартфон',\n",
       "  'топ'],\n",
       " ['выглядеть',\n",
       "  'форма',\n",
       "  'кот',\n",
       "  'собака',\n",
       "  'кошка',\n",
       "  'вещь',\n",
       "  'животное',\n",
       "  'отличный',\n",
       "  'идея',\n",
       "  'следовать'],\n",
       " ['сша',\n",
       "  'век',\n",
       "  'история',\n",
       "  'великий',\n",
       "  'американский',\n",
       "  'называть',\n",
       "  'самолет',\n",
       "  'ссср',\n",
       "  'построить',\n",
       "  'музей'],\n",
       " ['масло',\n",
       "  'соль',\n",
       "  'рецепт',\n",
       "  'яйцо',\n",
       "  'вкус',\n",
       "  'ингредиент',\n",
       "  'лук',\n",
       "  'приготовление',\n",
       "  'молоко',\n",
       "  'перец'],\n",
       " ['находиться',\n",
       "  'море',\n",
       "  'стена',\n",
       "  'метр',\n",
       "  'планета',\n",
       "  'остров',\n",
       "  'цветок',\n",
       "  'зима',\n",
       "  'парк',\n",
       "  'высота'],\n",
       " ['данный',\n",
       "  'использовать',\n",
       "  'любой',\n",
       "  'например',\n",
       "  'либо',\n",
       "  'правило',\n",
       "  'выбирать',\n",
       "  'внутри',\n",
       "  'оказываться',\n",
       "  'качество'],\n",
       " ['рыба',\n",
       "  'брать',\n",
       "  'забывать',\n",
       "  'праздник',\n",
       "  'любимый',\n",
       "  'овощ',\n",
       "  'еда',\n",
       "  'блюдо',\n",
       "  'кофе',\n",
       "  'горячий'],\n",
       " ['фильм',\n",
       "  'актриса',\n",
       "  'игра',\n",
       "  'роль',\n",
       "  'рождаться',\n",
       "  'звезда',\n",
       "  'картина',\n",
       "  'актер',\n",
       "  'сериал',\n",
       "  'известный'],\n",
       " ['спичка',\n",
       "  'понравиться',\n",
       "  'цвет',\n",
       "  'результат',\n",
       "  'красный',\n",
       "  'поставлять',\n",
       "  'необходимо',\n",
       "  'перелагать',\n",
       "  'задача',\n",
       "  'образ'],\n",
       " ['помогать',\n",
       "  'вес',\n",
       "  'организм',\n",
       "  'тело',\n",
       "  'сон',\n",
       "  'витамин',\n",
       "  'полезный',\n",
       "  'продукт',\n",
       "  'неделя',\n",
       "  'пить'],\n",
       " ['интересный',\n",
       "  'модель',\n",
       "  'фото',\n",
       "  'фотография',\n",
       "  'https',\n",
       "  'язык',\n",
       "  'подборка',\n",
       "  'сайт',\n",
       "  'yandex',\n",
       "  'zen'],\n",
       " ['рубль',\n",
       "  'цена',\n",
       "  'автомобиль',\n",
       "  'руб',\n",
       "  'компания',\n",
       "  'квартира',\n",
       "  'продавать',\n",
       "  'магазин',\n",
       "  'купить',\n",
       "  'телефон'],\n",
       " ['мужчина',\n",
       "  'решать',\n",
       "  'отношение',\n",
       "  'начинать',\n",
       "  'проблема',\n",
       "  'ответ',\n",
       "  'ситуация',\n",
       "  'школа',\n",
       "  'чувство',\n",
       "  'помогать'],\n",
       " ['кожа',\n",
       "  'волос',\n",
       "  'шаг',\n",
       "  'использовать',\n",
       "  'материал',\n",
       "  'способ',\n",
       "  'стиль',\n",
       "  'помощь',\n",
       "  'маска',\n",
       "  'платье']]"
      ]
     },
     "execution_count": 34,
     "metadata": {},
     "output_type": "execute_result"
    }
   ],
   "source": [
    "import artm\n",
    "\n",
    "from sklearn.feature_extraction.text import CountVectorizer\n",
    "from numpy import array\n",
    "\n",
    "cv = CountVectorizer(max_features=1000, stop_words=stopwords)\n",
    "n_wd = array(cv.fit_transform(l).todense()).T\n",
    "vocabulary = cv.get_feature_names()\n",
    "\n",
    "bv = artm.BatchVectorizer(data_format='bow_n_wd',\n",
    "                          n_wd=n_wd,\n",
    "                          vocabulary=vocabulary)\n",
    "\n",
    "model = artm.LDA(num_topics=15, dictionary=bv.dictionary, cache_theta=True)\n",
    "# model.fit_offline(bv, num_collection_passes=20)\n",
    "model.load('../artmmodel')\n",
    "# model.save('artmmodel_20themes')\n",
    "model.get_top_tokens()"
   ]
  },
  {
   "cell_type": "code",
   "execution_count": 35,
   "metadata": {
    "collapsed": false
   },
   "outputs": [],
   "source": [
    "topic_matrix = model.transform(bv).transpose()"
   ]
  },
  {
   "cell_type": "code",
   "execution_count": 36,
   "metadata": {
    "collapsed": false
   },
   "outputs": [],
   "source": [
    "topic_matrix.index = train_df.loc[train_df.text.notnull()].index"
   ]
  },
  {
   "cell_type": "code",
   "execution_count": 37,
   "metadata": {
    "collapsed": false
   },
   "outputs": [],
   "source": [
    "train_df = pd.concat([train_df, topic_matrix], axis=1)"
   ]
  },
  {
   "cell_type": "code",
   "execution_count": 38,
   "metadata": {
    "collapsed": false
   },
   "outputs": [],
   "source": [
    "train_df.loc[train_df.text.isnull(), topic_matrix.columns] = 0.0"
   ]
  },
  {
   "cell_type": "code",
   "execution_count": 39,
   "metadata": {
    "collapsed": false
   },
   "outputs": [
    {
     "data": {
      "text/plain": [
       "Index(['topic_0', 'topic_1', 'topic_2', 'topic_3', 'topic_4', 'topic_5',\n",
       "       'topic_6', 'topic_7', 'topic_8', 'topic_9', 'topic_10', 'topic_11',\n",
       "       'topic_12', 'topic_13', 'topic_14'],\n",
       "      dtype='object')"
      ]
     },
     "execution_count": 39,
     "metadata": {},
     "output_type": "execute_result"
    }
   ],
   "source": [
    "topic_matrix.columns"
   ]
  },
  {
   "cell_type": "markdown",
   "metadata": {},
   "source": [
    "Выделение наиболее вероятной фичи нарратива"
   ]
  },
  {
   "cell_type": "code",
   "execution_count": 40,
   "metadata": {
    "collapsed": true
   },
   "outputs": [],
   "source": [
    "topic_matrix.columns = [i for i in range(15)]"
   ]
  },
  {
   "cell_type": "code",
   "execution_count": 41,
   "metadata": {
    "collapsed": false
   },
   "outputs": [
    {
     "data": {
      "text/plain": [
       "<matplotlib.axes._subplots.AxesSubplot at 0x131a41710>"
      ]
     },
     "execution_count": 41,
     "metadata": {},
     "output_type": "execute_result"
    },
    {
     "data": {
      "image/png": "[encoded data removed]",
      "text/plain": [
       "<matplotlib.figure.Figure at 0x11da8b940>"
      ]
     },
     "metadata": {},
     "output_type": "display_data"
    }
   ],
   "source": [
    "topic_matrix.idxmax(axis=1).hist()"
   ]
  },
  {
   "cell_type": "code",
   "execution_count": 42,
   "metadata": {
    "collapsed": true
   },
   "outputs": [],
   "source": [
    "train_df = pd.concat([train_df, topic_matrix.idxmax(axis=1)], axis=1)"
   ]
  },
  {
   "cell_type": "code",
   "execution_count": 43,
   "metadata": {
    "collapsed": false
   },
   "outputs": [],
   "source": [
    "train_df = train_df.rename(index=str, columns={0:'top_theme'})"
   ]
  },
  {
   "cell_type": "code",
   "execution_count": 44,
   "metadata": {
    "collapsed": false
   },
   "outputs": [],
   "source": [
    "train_df.loc[train_df.top_theme.isnull(), 'top_theme'] = 15"
   ]
  },
  {
   "cell_type": "code",
   "execution_count": 45,
   "metadata": {
    "collapsed": false
   },
   "outputs": [
    {
     "data": {
      "text/plain": [
       "array([ 1.,  3., 12., 10.,  2.,  6.,  8., 14.,  5., 13.,  4.,  0., 11.,\n",
       "       15.,  7.,  9.])"
      ]
     },
     "execution_count": 45,
     "metadata": {},
     "output_type": "execute_result"
    }
   ],
   "source": [
    "train_df.top_theme.unique()"
   ]
  },
  {
   "cell_type": "markdown",
   "metadata": {},
   "source": [
    "Загрузка вероятностей класса, полученных из LSTM-модели"
   ]
  },
  {
   "cell_type": "code",
   "execution_count": 46,
   "metadata": {
    "collapsed": true
   },
   "outputs": [],
   "source": [
    "probs = np.load('probs.npy')"
   ]
  },
  {
   "cell_type": "code",
   "execution_count": 47,
   "metadata": {
    "collapsed": true
   },
   "outputs": [],
   "source": [
    "train_df.index = train_df.index.astype(int)"
   ]
  },
  {
   "cell_type": "code",
   "execution_count": 49,
   "metadata": {
    "collapsed": false
   },
   "outputs": [],
   "source": [
    "probs_cols = pd.DataFrame(probs, columns=['prob_bad', 'prob_super', 'prob_ok'], index=data.index)"
   ]
  },
  {
   "cell_type": "code",
   "execution_count": 50,
   "metadata": {
    "collapsed": false
   },
   "outputs": [],
   "source": [
    "probs_cols2 = probs_cols.iloc[counted_ind]\n",
    "train_df = pd.concat([train_df, probs_cols2], axis=1)"
   ]
  },
  {
   "cell_type": "markdown",
   "metadata": {},
   "source": [
    "Сохранение данных"
   ]
  },
  {
   "cell_type": "code",
   "execution_count": 56,
   "metadata": {
    "collapsed": true
   },
   "outputs": [],
   "source": [
    "train_df.iloc[:, -19:].to_csv('topic_probs_expanded.csv')"
   ]
  }
 ],
 "metadata": {
  "anaconda-cloud": {},
  "kernelspec": {
   "display_name": "Python [conda env:python3]",
   "language": "python",
   "name": "conda-env-python3-py"
  },
  "language_info": {
   "codemirror_mode": {
    "name": "ipython",
    "version": 3
   },
   "file_extension": ".py",
   "mimetype": "text/x-python",
   "name": "python",
   "nbconvert_exporter": "python",
   "pygments_lexer": "ipython3",
   "version": "3.6.0"
  }
 },
 "nbformat": 4,
 "nbformat_minor": 1
}
